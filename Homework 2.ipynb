{
 "cells": [
  {
   "cell_type": "code",
   "execution_count": 1,
   "metadata": {},
   "outputs": [],
   "source": [
    "import numpy as np\n",
    "from matplotlib import pyplot as plt\n",
    "import tqdm"
   ]
  },
  {
   "cell_type": "markdown",
   "metadata": {},
   "source": [
    "<h3>Monte Carlo Integration</h3>\n",
    "Suppose one wishes to integrate some integrable function f over some volume where\n",
    "$$\\mathbf{x}  \\in \\mathbb{R} ^{n}, f(\\mathbf{x}) \\in \\mathbb{R}, n\\in \\mathbb{N}$$\n",
    "$$V = \\int_{V}^{ } dV$$\n",
    "The integral can be approximated as the following:\n",
    "$$\\int_{V}^{ } f(\\mathbf{x})dV \\approx \\frac{V}{N}\\sum_{i=1}^{N}f(\\mathbf{x_{i}})$$\n",
    "Where $N \\in \\mathbb{N}$ is the number of independent samples $\\mathbf{x_{i}}$ taken from a uniform distribution inside the volume $V$. This is known as Monte Carlo Integration\n",
    "\n",
    "As it is a constant, the expectation of $f(\\mathbf{x_{i}})$ in $V$ is equal to the result of the integral divided by the volume:\n",
    "$$\\left \\langle f \\right \\rangle = \\frac{\\int_{V}^{ } f(\\mathbf{x})dV}{V}$$\n",
    "\n",
    "Thus, the exppected error in the approximation can be written as:\n",
    "$$\\mathbf{Err} = E\\left [\\frac{V}{N}\\sum_{i=1}^{N}f(\\mathbf{x_{i}}) - V\\left \\langle f \\right \\rangle  \\right ]$$\n",
    "\n",
    "As $\\left \\langle f \\right \\rangle$ is a constant, one obtains:\n",
    "\n",
    "$$\\mathbf{Err} = E\\left [\\frac{V}{N}\\sum_{i=1}^{N}\\left (f(\\mathbf{x_{i}}) - \\left \\langle f \\right \\rangle  \\right )  \\right ]$$\n",
    "\n",
    "As $E\\left [f(\\mathbf{x_{i}})  \\right ] = E\\left [\\left \\langle f \\right \\rangle   \\right ]$, the expected error is $0$. Thus, to properly investigate convergence, one requires the Mean Squared Error:\n",
    "\n",
    "$$\\mathbf{MSE} = E\\left [\\left (\\frac{V}{N}  \\right )^{2}\\sum_{i=1}^{N}\\left (f(\\mathbf{x_{i}}) - \\left \\langle f \\right \\rangle  \\right )^{2} \\right ]$$\n",
    "\n",
    "Using the linear properties of the expectation operator, this becomes:\n",
    "$$\\mathbf{MSE} = \\left (\\frac{V}{N}  \\right )^{2}\\sum_{i=1}^{N}E\\left [\\left (f(\\mathbf{x_{i}}) - \\left \\langle f \\right \\rangle  \\right )^{2}  \\right ]  $$\n",
    "\n",
    "Or:\n",
    "\n",
    "$$\\mathbf{MSE} = \\left (\\frac{V}{N}  \\right )^{2}\\sum_{i=1}^{N}E\\left [\\left (f(\\mathbf{x_{i}}) - E\\left [f(\\mathbf{x_{i}}) \\right ] + E\\left [f(\\mathbf{x_{i}}) \\right ] - \\left \\langle f \\right \\rangle  \\right )^{2}  \\right ]  $$\n",
    "\n",
    "Expanding the brackets:\n",
    "\n",
    "$$\\mathbf{MSE} = \\left (\\frac{V}{N}  \\right )^{2}\\sum_{i=1}^{N}E\\left [(f(\\mathbf{x_{i}}) - E\\left [f(\\mathbf{x_{i}}) \\right ])^{2} + (E\\left [f(\\mathbf{x_{i}}) \\right ] - \\left \\langle f \\right \\rangle  )^{2}    + 2(f(\\mathbf{x_{i}}) - E\\left [f(\\mathbf{x_{i}}) \\right ])(E\\left [f(\\mathbf{x_{i}}) \\right ] - \\left \\langle f \\right \\rangle  ) \\right ]$$\n",
    "\n",
    "Using $E\\left [f(\\mathbf{x_{i}})  \\right ] = E\\left [\\left \\langle f \\right \\rangle   \\right ]$, the MSE is simplified to:\n",
    "$$\\mathbf{MSE} = \\left (\\frac{V}{N}  \\right )^{2}\\sum_{i=1}^{N}E\\left [(f(\\mathbf{x_{i}}) - E\\left [f(\\mathbf{x_{i}}) \\right ])^{2} \\right ] = \\left (\\frac{V}{N}  \\right )^{2}\\sum_{i=1}^{N}E\\left [(f(\\mathbf{x_{i}}) - \\left \\langle f \\right \\rangle)^{2} \\right ]$$\n",
    "\n",
    "Or\n",
    "$$\\mathbf{MSE} = \\left (\\frac{V}{N}  \\right )^{2}\\sum_{i=1}^{N}Var(f)$$\n",
    "\n",
    "Thus:\n",
    "$$\\mathbf{MSE} = \\left (\\frac{V}{N}  \\right )^{2}N\\cdot Var(f) = \\frac{V^{2}}{N}Var(f)$$\n",
    "\n",
    "Taking the square root of MSE, we obtain the final estimate for the error as:\n",
    "$$\\mathbf{RMSE} = \\sqrt{Var(f)}\\cdot \\frac{V}{\\sqrt{N}}$$\n",
    "\n",
    "Thus, the error in Monte Carlo Integration should be proportional to $\\frac{1}{\\sqrt{N}}$"
   ]
  },
  {
   "cell_type": "markdown",
   "metadata": {},
   "source": [
    "<h3>Convergence comparison</h3>\n",
    "To obtain empirical evidence of the convergence, one can assess how the error changes with number of samples for a given integral. For a comparison, the error terms for integration using the trapzium rule and simpson's rule are also shown"
   ]
  },
  {
   "cell_type": "markdown",
   "metadata": {},
   "source": [
    "<h3>Function definitions</h3>\n",
    "Below is the function f(x):\n",
    "$$f(x) = \\frac{cos(x)^{2}}{2}$$\n",
    "\n",
    "And 3 different methods of numerical integration: The Monte Carlo Method, The Trapezium Rule and Simpson's Rule"
   ]
  },
  {
   "cell_type": "code",
   "execution_count": 2,
   "metadata": {},
   "outputs": [],
   "source": [
    "def f(x):\n",
    "    \"\"\"\n",
    "    Returns half of the squared cosine of an input variable x\n",
    "    \"\"\"\n",
    "    return (np.cos(x) ** 2)/2"
   ]
  },
  {
   "cell_type": "code",
   "execution_count": 3,
   "metadata": {},
   "outputs": [],
   "source": [
    "def mc_integrate(f, lower_lim=0, upper_lim=1, samples = 10000):\n",
    "    \"\"\"\n",
    "    Integrates a function using the monte carlo\n",
    "    integration algorithm.\n",
    "    \"\"\"\n",
    "    dist = np.random.uniform(low=lower_lim,\n",
    "                             high=upper_lim,\n",
    "                             size=samples + 1)\n",
    "    coefficient = (upper_lim - lower_lim) / samples\n",
    "    summation = np.sum(f(dist))\n",
    "\n",
    "    return coefficient * summation"
   ]
  },
  {
   "cell_type": "code",
   "execution_count": 4,
   "metadata": {},
   "outputs": [],
   "source": [
    "def simpson_integrate(f, lower_lim=0, upper_lim=1, samples = 10000):\n",
    "    \"\"\"\n",
    "    Integrates a function using simpson's rule\n",
    "    \"\"\"\n",
    "    assert samples % 2 == 0\n",
    "    x = np.linspace(lower_lim, upper_lim, samples + 1)\n",
    "    y = f(x)\n",
    "    width = (upper_lim - lower_lim) / samples\n",
    "            \n",
    "    return np.sum(y[0:-1:2] + y[2::2] + y[1::2] * 4) * (width / 3)\n"
   ]
  },
  {
   "cell_type": "code",
   "execution_count": 5,
   "metadata": {},
   "outputs": [],
   "source": [
    "def trapezium_integrate(f, lower_lim=0, upper_lim=1, samples = 10000):\n",
    "    \"\"\"\n",
    "    Integrates a function using the trapezium rule\n",
    "    \"\"\"\n",
    "    dist = np.linspace(lower_lim, upper_lim, samples + 1)\n",
    "    width = (upper_lim - lower_lim) / samples\n",
    "    start_end_terms = (f(dist[-1]) + f(dist[0])) / 2\n",
    "    \n",
    "    middle_terms = sum(f(dist[1:-1]))\n",
    "    \n",
    "    return (middle_terms + start_end_terms) * width"
   ]
  },
  {
   "cell_type": "markdown",
   "metadata": {},
   "source": [
    "As\n",
    "$$cos(x)^{2} + sin(x)^{2} = 1$$\n",
    "And \n",
    "$$cos(2x) = cos(x)^{2} - sin(x)^{2}$$\n",
    "One finds that\n",
    "$$cos(2x) = 2cos(x)^{2} - 1$$\n",
    "Or\n",
    "$$\\frac{cos(2x) + 1}{2} =cos(x)^{2}$$\n",
    "Thus\n",
    "$$\\int \\frac{cos(x)^{2}}{2}dx = \\int \\frac{cos(2x) + 1}{4}dx$$\n",
    "Therefore, we obtain the analytic value of the integral as:\n",
    "$$\\int_{0}^{2}\\frac{cos(x)^{2}}{2}dx = \\frac{1}{4}\\int_{0}^{2}cos(2x)dx + \\frac{1}{4}\\int_{0}^{2} dx$$\n",
    "\n",
    "$$ = \\frac{1}{4}\\left [ \\frac{sin(2x)}{2} \\right ]_{0}^{2} + \\frac{1}{4} \\left [x \\right ]_{0}^{2}$$\n",
    "\n",
    "$$ = \\frac{sin(4)}{8} + \\frac{1}{2}$$\n"
   ]
  },
  {
   "cell_type": "code",
   "execution_count": 6,
   "metadata": {},
   "outputs": [],
   "source": [
    "def true_integrate_f(lower_lim=0, upper_lim=1, **kwargs):\n",
    "    '''\n",
    "    Return the analytic solution of f, evaluated between bounds \n",
    "    '''\n",
    "    def f_int(x):\n",
    "        '''\n",
    "        Return f, integrated at x\n",
    "        '''\n",
    "        term_1 =  np.sin(2 * x) / 8\n",
    "        term_2 = x/4 \n",
    "        return term_1 + term_2\n",
    "    \n",
    "    return f_int(upper_lim) - f_int(lower_lim)"
   ]
  },
  {
   "cell_type": "code",
   "execution_count": 7,
   "metadata": {},
   "outputs": [
    {
     "data": {
      "application/vnd.jupyter.widget-view+json": {
       "model_id": "1941d98298b64b0ca0b33090f47cee62",
       "version_major": 2,
       "version_minor": 0
      },
      "text/plain": [
       "HBox(children=(IntProgress(value=0, max=9), HTML(value='')))"
      ]
     },
     "metadata": {},
     "output_type": "display_data"
    },
    {
     "name": "stdout",
     "output_type": "stream",
     "text": [
      "\n"
     ]
    }
   ],
   "source": [
    "# Create a wide variety of sample numbers\n",
    "samples = [2 ** n for n in range(1, 10)]\n",
    "\n",
    "# Create a dictionary to store the errors\n",
    "errors = {\n",
    "    'mc_integrate': [],\n",
    "    'trapezium_integrate': [],\n",
    "    'simpson_integrate': [],\n",
    "}\n",
    "\n",
    "args = {\n",
    "    'f': f,\n",
    "    'upper_lim': 2,\n",
    "    'lower_lim': 0\n",
    "}\n",
    "\n",
    "models = [mc_integrate, trapezium_integrate, simpson_integrate]\n",
    "\n",
    "# Iterate through each sample size and store the error given by each integration method\n",
    "for sample in tqdm.tqdm_notebook(samples):\n",
    "    args['samples'] = sample\n",
    "    for model in models:\n",
    "        approx_integral = model(**args)\n",
    "        analytic_integral = true_integrate_f(**args)\n",
    "        \n",
    "        error = abs(analytic_integral - approx_integral)\n",
    "        \n",
    "        key = model.__name__\n",
    "        errors[key].append(error)"
   ]
  },
  {
   "cell_type": "markdown",
   "metadata": {},
   "source": [
    "<h3>Results</h3>\n",
    "As can be seen below, Monte-Carlo Integration converges (roughly) proportional to $\\frac{1}{\\sqrt{N}}$, the trapezium rule converges with $\\frac{1}{N^{2}}$ and Simpson's rule converges with $\\frac{1}{N^{4}}$. The uncertainty in the error for the monte carlo method is not exactly proportional to $\\frac{1}{\\sqrt{N}}$ due to the random sampling, however the gradient of the line below will converge to -0.5 as $N\\rightarrow \\infty $\n",
    "\n",
    "Clearly, Monte-Carlo integration is not appropriate for integrating $f(x) = \\frac{cos(x)^{2}}{2}$ as Simpson's Rule converges much faster. However, as proved above, the convergence of Monte-Carlo Integration is unaffected by the dimensionality of the domain over which the integral is being performed, unlike for Simpson's Rule and the Trapezium Rule"
   ]
  },
  {
   "cell_type": "code",
   "execution_count": 11,
   "metadata": {},
   "outputs": [
    {
     "name": "stdout",
     "output_type": "stream",
     "text": [
      "Gradient of mc_integrate: -0.6362878598084405\n",
      "Gradient of trapezium_integrate: -2.008286074812618\n",
      "Gradient of simpson_integrate: -4.06788127720389\n"
     ]
    },
    {
     "data": {
      "image/png": "[encoded data removed]",
      "text/plain": [
       "<Figure size 1152x648 with 1 Axes>"
      ]
     },
     "metadata": {
      "needs_background": "light"
     },
     "output_type": "display_data"
    }
   ],
   "source": [
    "plt.figure(figsize = (16,9))\n",
    "for key, value in errors.items():\n",
    "    x = np.log2(samples)\n",
    "    y = np.log2(value)\n",
    "    plt.scatter(x,y, label=key)\n",
    "    \n",
    "    coef = np.polyfit(x, y, 1)\n",
    "    print('Gradient of {}: {}'.format(key, coef[0]))\n",
    "    poly1d_fn = np.poly1d(coef)\n",
    "    plt.plot(x, poly1d_fn(x), '--')\n",
    "\n",
    "\n",
    "plt.legend()\n",
    "plt.show()"
   ]
  },
  {
   "cell_type": "code",
   "execution_count": null,
   "metadata": {},
   "outputs": [],
   "source": []
  }
 ],
 "metadata": {
  "kernelspec": {
   "display_name": "Python 3",
   "language": "python",
   "name": "python3"
  },
  "language_info": {
   "codemirror_mode": {
    "name": "ipython",
    "version": 3
   },
   "file_extension": ".py",
   "mimetype": "text/x-python",
   "name": "python",
   "nbconvert_exporter": "python",
   "pygments_lexer": "ipython3",
   "version": "3.6.2"
  }
 },
 "nbformat": 4,
 "nbformat_minor": 2
}
