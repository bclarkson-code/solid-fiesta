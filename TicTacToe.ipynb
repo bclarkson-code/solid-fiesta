{
 "cells": [
  {
   "cell_type": "code",
   "execution_count": 735,
   "metadata": {},
   "outputs": [],
   "source": [
    "import numpy as np\n",
    "import numba\n",
    "import sys\n",
    "import re\n",
    "import os"
   ]
  },
  {
   "cell_type": "code",
   "execution_count": 742,
   "metadata": {},
   "outputs": [],
   "source": [
    "coord_pattern = re.compile('[0-2],[0-2]')\n",
    "if pattern.match('1,3'):\n",
    "    print(True)"
   ]
  },
  {
   "cell_type": "code",
   "execution_count": 885,
   "metadata": {},
   "outputs": [],
   "source": [
    "class TicTacToe(object):\n",
    "    \"\"\"\n",
    "    A class of functions that can be used to generate next moves from a node and test for a win. \n",
    "    \"\"\"\n",
    "    def __init__(self):\n",
    "        self.board_width = 3\n",
    "        self.player_ids = [-1,1]\n",
    "        \n",
    "    def get_next_player(self, player):\n",
    "        '''\n",
    "        gets the Id of the next player\n",
    "        '''\n",
    "        return player * -1\n",
    "        \n",
    "    def get_winner(self, board):\n",
    "        '''\n",
    "        If a board has a winner, the index of the winner is returned. \n",
    "        Returns -1 if loss, 1 if win, 0 if draw and nan if game is not finished\n",
    "        '''\n",
    "        win_arrays =[np.array([player] * self.board_width) for player in self.player_ids]\n",
    "        \n",
    "        for i, winner in enumerate([1, -1]):\n",
    "            win_array = win_arrays[i]\n",
    "            for i in range(self.board_width):\n",
    "                # check rows\n",
    "                if np.array_equal(board[i], win_array):\n",
    "                    return winner\n",
    "                #check columns\n",
    "                elif np.array_equal(board[:,i], win_array):\n",
    "                    return winner\n",
    "                # check leading diagonal\n",
    "                elif np.array_equal(np.diagonal(board), win_array):\n",
    "                    return winner\n",
    "                # check non-leading diagonal\n",
    "                elif np.array_equal(np.diagonal(np.flipud(board)), win_array):\n",
    "                    return winner\n",
    "        # return nan if no wins losses or draws\n",
    "        for i in np.nditer(board):\n",
    "            if i == 0:\n",
    "                return np.nan\n",
    "        # must be a draw so return 0\n",
    "        return 0\n",
    "    \n",
    "    def get_moves(self, board, player):\n",
    "        '''\n",
    "        Return a list of all possible moves from a given board\n",
    "        '''\n",
    "        moves = []\n",
    "        for x in range(self.board_width):\n",
    "            for y in range(self.board_width):\n",
    "                if board[x][y] == 0:\n",
    "                    copy = board.copy()\n",
    "                    copy[x][y] = player\n",
    "                    moves.append(copy)\n",
    "        return moves\n",
    "    \n",
    "    def display_board(self, board):\n",
    "        '''\n",
    "        Print the current board state\n",
    "        '''\n",
    "        string = str(board)\n",
    "        string = string.replace('0', ' ')\n",
    "        string = string.replace('-1', ' O')\n",
    "        string = string.replace('1', 'X')\n",
    "        print(string)\n",
    "        \n",
    "    def expand(self, node):\n",
    "        '''\n",
    "        Generates a new node for each possible move from the current node\n",
    "        '''\n",
    "        moves = self.get_moves(node.board, node.player)\n",
    "        \n",
    "        for move in moves:\n",
    "            next_player = self.get_next_player(node.player)\n",
    "            \n",
    "            node.children.append(\n",
    "                Node(move, \n",
    "                     next_player,\n",
    "                     parent=node))\n",
    "            \n",
    "        node.visits += 1  \n",
    "        node.expanded = True\n",
    "        return node\n",
    "    \n",
    "    def play_out(self, node, print_path=False):\n",
    "        '''\n",
    "        Play out a given board state - selecting moves at random until the game ends\n",
    "        '''\n",
    "        if np.isnan(node.end_state):\n",
    "            node.winner = self.get_winner(node.board)\n",
    "            node.end_state = not np.isnan(node.winner)\n",
    "        \n",
    "        if node.end_state:\n",
    "            return node.winner\n",
    "        else:\n",
    "            player = node.player\n",
    "            board = node.board\n",
    "            moves = [np.nan]\n",
    "\n",
    "            while np.isnan(self.get_winner(board)) and len(moves) > 0:\n",
    "                moves = self.get_moves(board, player)\n",
    "                board_index = np.random.randint(len(moves))\n",
    "                board = moves[board_index]\n",
    "                player = self.get_next_player(player)\n",
    "\n",
    "                if print_path:\n",
    "                    for move in moves:\n",
    "                        self.display_board(move)\n",
    "                    print()\n",
    "            return self.get_winner(board)     \n",
    "    \n",
    "    def start_state(self):\n",
    "        '''\n",
    "        Returns the inital board state (an empty 3 * 3 grid)\n",
    "        '''\n",
    "        return np.zeros((3*3))"
   ]
  },
  {
   "cell_type": "code",
   "execution_count": 886,
   "metadata": {},
   "outputs": [],
   "source": [
    "class Node(object):\n",
    "    '''\n",
    "    A node in the tree of possible moves. Can generate children \n",
    "    and calculate whether the current board has been won by a player.\n",
    "    \n",
    "    As a convention, Machine goes first and has ID 1, human has id -1\n",
    "    '''\n",
    "    def __init__(self, board, player, parent=None):\n",
    "        self.board = board\n",
    "        self.player = player\n",
    "        self.children = []\n",
    "        self.winner = np.nan\n",
    "        self.end_state = np.nan\n",
    "        self.wins = 0\n",
    "        self.losses = 0\n",
    "        self.visits = 0\n",
    "        self.UCB = np.inf\n",
    "        self.parent = parent\n",
    "        self.expanded = False\n",
    "        self.hash = str(self.board)\n",
    "        \n",
    "    def get_score(self):\n",
    "        '''\n",
    "        Returns the fraction of wins compared to the number of simulated games\n",
    "        '''\n",
    "        denominator = self.wins + self.losses\n",
    "        # If no games have been simulated, guess that the score is 0.5\n",
    "        if denominator == 0:\n",
    "               return 0.5\n",
    "        else:\n",
    "            return self.wins / denominator"
   ]
  },
  {
   "cell_type": "code",
   "execution_count": 944,
   "metadata": {},
   "outputs": [],
   "source": [
    "class MonteCarloTreeSearch(object):\n",
    "    def __init__(self, game):\n",
    "        self.game = game\n",
    "        self.iterations = 100\n",
    "        self.hash_table = {}\n",
    "    \n",
    "    def calculate_UCB(self, node):\n",
    "        '''\n",
    "        Calculate the UCB score for a node\n",
    "        '''\n",
    "        if not node.expanded:\n",
    "            return np.inf\n",
    "        \n",
    "        if node.visits == 0:\n",
    "            return np.inf\n",
    "        else:\n",
    "            ln_N = np.log(node.parent.visits)\n",
    "        \n",
    "        return node.get_score() + (2 * np.sqrt(ln_N/node.visits))\n",
    "\n",
    "    def index_max(self, values):\n",
    "        '''\n",
    "        Return the index of the largest value in an array\n",
    "        '''\n",
    "        return max(range(len(values)), key=values.__getitem__)\n",
    "    \n",
    "    def get_highest_UCB(self, node):\n",
    "        '''\n",
    "        Return the child with the highest UCB from a node\n",
    "        '''\n",
    "        UCBs = []\n",
    "        for child in node.children:\n",
    "            child.UCB = self.calculate_UCB(child)\n",
    "            UCBs.append(child.UCB)\n",
    "        max_index = self.index_max(UCBs)\n",
    "        \n",
    "        return node.children[max_index]\n",
    "    \n",
    "    def backpropogate(self, path, winner):\n",
    "        '''\n",
    "        Backpropogate the result of the simulation along the path taken to the leaf node\n",
    "        '''\n",
    "        for node in path:\n",
    "            if node.player != winner:\n",
    "                node.losses += 1\n",
    "            else:\n",
    "                node.wins += 1\n",
    "        \n",
    "    def simulate(self, root_node):\n",
    "        '''\n",
    "        Traverse the tree, following the pasth of largest UCB until a leaf not is reached.\n",
    "        Simulate a random game from that leaf node and backpropagate the result back up the tree\n",
    "        '''\n",
    "        node = root_node\n",
    "        path = [node] # record the nodes that are traversed\n",
    "\n",
    "        #follow the nodes with the highest UCB until a node that is un-expanded is reached\n",
    "        while node.expanded and not node.end_state:\n",
    "            node.visits += 1\n",
    "            node = self.get_highest_UCB(node)\n",
    "            path.append(node)\n",
    "\n",
    "        self.game.expand(node)\n",
    "        winner = self.game.play_out(node)\n",
    "        self.backpropogate(path, winner)\n",
    "    \n",
    "    def get_next_move(self, board, player=1):\n",
    "        '''\n",
    "        Explore the possiblity tree to generate the next move for the machine\n",
    "        '''\n",
    "        \n",
    "        # If a node is already in the tree, select it, otherwise create a new node\n",
    "        if str(board) in self.hash_table:\n",
    "            root_node = self.hash_table[str(board)]\n",
    "        else:\n",
    "            root_node = Node(board, player)\n",
    "            self.hash_table[root_node.hash] = root_node\n",
    "        \n",
    "        # Follow the path of highest UCB to a leaf, expand it, and simulate\n",
    "        # a random game from that point\n",
    "        for iterations in range(self.iterations):\n",
    "            self.simulate(root_node)\n",
    "            \n",
    "        # Look through the scores for each possible next move and select \n",
    "        # the one with highest score\n",
    "        scores = [child.get_score() for child in root_node.children]\n",
    "        best_index = self.index_max(scores)\n",
    "        \n",
    "        return root_node.children[best_index].board, root_node"
   ]
  },
  {
   "cell_type": "code",
   "execution_count": 961,
   "metadata": {},
   "outputs": [],
   "source": [
    "game = TicTacToe()\n",
    "searcher = MonteCarloTreeSearch(game)\n",
    "searcher.iterations = 10000\n",
    "empty_board = np.zeros((3,3), dtype=np.int8)"
   ]
  },
  {
   "cell_type": "code",
   "execution_count": 962,
   "metadata": {},
   "outputs": [
    {
     "data": {
      "text/plain": [
       "array([[0, 0, 0],\n",
       "       [0, 1, 0],\n",
       "       [0, 0, 0]], dtype=int8)"
      ]
     },
     "execution_count": 962,
     "metadata": {},
     "output_type": "execute_result"
    }
   ],
   "source": [
    "move, node = searcher.get_next_move(empty_board)\n",
    "move"
   ]
  },
  {
   "cell_type": "code",
   "execution_count": 963,
   "metadata": {},
   "outputs": [
    {
     "name": "stdout",
     "output_type": "stream",
     "text": [
      "[[1 0 0]\n",
      " [0 0 0]\n",
      " [0 0 0]] <bound method Node.get_score of <__main__.Node object at 0x129DCB10>>\n",
      "[[0 1 0]\n",
      " [0 0 0]\n",
      " [0 0 0]] <bound method Node.get_score of <__main__.Node object at 0x129DC390>>\n",
      "[[0 0 1]\n",
      " [0 0 0]\n",
      " [0 0 0]] <bound method Node.get_score of <__main__.Node object at 0x129DC4D0>>\n",
      "[[0 0 0]\n",
      " [1 0 0]\n",
      " [0 0 0]] <bound method Node.get_score of <__main__.Node object at 0x129DCBB0>>\n",
      "[[0 0 0]\n",
      " [0 1 0]\n",
      " [0 0 0]] <bound method Node.get_score of <__main__.Node object at 0x1402DAD0>>\n",
      "[[0 0 0]\n",
      " [0 0 1]\n",
      " [0 0 0]] <bound method Node.get_score of <__main__.Node object at 0x1402D550>>\n",
      "[[0 0 0]\n",
      " [0 0 0]\n",
      " [1 0 0]] <bound method Node.get_score of <__main__.Node object at 0x1402D390>>\n",
      "[[0 0 0]\n",
      " [0 0 0]\n",
      " [0 1 0]] <bound method Node.get_score of <__main__.Node object at 0x1402D4F0>>\n",
      "[[0 0 0]\n",
      " [0 0 0]\n",
      " [0 0 1]] <bound method Node.get_score of <__main__.Node object at 0x1402D0B0>>\n"
     ]
    }
   ],
   "source": [
    "for child in node.children:\n",
    "    print(child.board, child.get_score())"
   ]
  },
  {
   "cell_type": "code",
   "execution_count": 980,
   "metadata": {},
   "outputs": [
    {
     "data": {
      "text/plain": [
       "0"
      ]
     },
     "execution_count": 980,
     "metadata": {},
     "output_type": "execute_result"
    }
   ],
   "source": [
    "class MiniMax(object):\n",
    "    def __init__(self):\n",
    "        empty_board = np.zeros((3,3), dtype=np.int8)\n",
    "        self.player = 1\n",
    "        self.root = Node(empty_board, self.player)\n",
    "        self.hash_table = {str(self.root.board): self.root}\n",
    "        self.game = TicTacToe()\n",
    "        \n",
    "    def traverse(self, node):\n",
    "        winner = self.game.get_winner(node.board)\n",
    "        if not np.isnan(winner):\n",
    "            return winner\n",
    "        else:\n",
    "            self.game.expand(node)\n",
    "            total = 0\n",
    "            for child in node.children:\n",
    "                if self.traverse(child) == node.player:\n",
    "                    node.wins += 1\n",
    "                    total += 1\n",
    "                node.visits += 1\n",
    "        self.hash_table[str(node.board)] = node\n",
    "        return total\n",
    "        \n",
    "m = MiniMax()\n",
    "m.traverse(m.root)"
   ]
  },
  {
   "cell_type": "code",
   "execution_count": 1133,
   "metadata": {},
   "outputs": [
    {
     "name": "stdout",
     "output_type": "stream",
     "text": [
      "[[ X  O  O]\n",
      " [ X  X   ]\n",
      " [        ]]\n",
      "---------------\n"
     ]
    },
    {
     "data": {
      "text/plain": [
       "{-1: 85, 0: 0, 1: 915}"
      ]
     },
     "execution_count": 1133,
     "metadata": {},
     "output_type": "execute_result"
    }
   ],
   "source": [
    "def play_out(node, print_path=False):\n",
    "    '''\n",
    "    Play out a given board state - selecting moves at random until the game ends\n",
    "    '''\n",
    "    self = TicTacToe()\n",
    "    if np.isnan(node.end_state):\n",
    "        node.winner = get_winner(node.board)\n",
    "        node.end_state = not np.isnan(node.winner)\n",
    "\n",
    "    if node.end_state:\n",
    "        return node.winner\n",
    "    else:\n",
    "        player = node.player\n",
    "        board = node.board\n",
    "        moves = [np.nan]\n",
    "\n",
    "        while np.isnan(get_winner(board)) and len(moves) > 0:\n",
    "            moves = self.get_moves(board, player)\n",
    "            board_index = np.random.randint(len(moves))\n",
    "            board = moves[board_index]\n",
    "            player = self.get_next_player(player)\n",
    "            \n",
    "            if print_path:\n",
    "                self.display_board(board)\n",
    "                print()\n",
    "        return get_winner(board)\n",
    "\n",
    "board = np.array([[ 1, -1, -1], [ 1,  1,  0], [ 0,  0,  0]], dtype=np.int8)\n",
    "TicTacToe().display_board(board)\n",
    "print('---------------')\n",
    "node = Node(board, -1)\n",
    "scores = {-1: 0, 0: 0, 1: 0}\n",
    "for i in range(1000):\n",
    "    result = play_out(node, print_path=False)\n",
    "    scores[result] += 1    \n",
    "scores"
   ]
  },
  {
   "cell_type": "code",
   "execution_count": 2,
   "metadata": {},
   "outputs": [],
   "source": [
    "import numpy as np\n",
    "import numba\n",
    "import sys\n",
    "import re\n",
    "import os\n",
    "from games import TicTacToe\n",
    "from node import Node\n",
    "import argparse\n",
    "\n",
    "class InputError(Exception):\n",
    "    pass\n",
    "\n",
    "class MonteCarloTreeSearch(object):\n",
    "    def __init__(self, game):\n",
    "        self.game = game\n",
    "        self.iterations = 1000\n",
    "        self.hash_table = {}\n",
    "\n",
    "    def calculate_UCB(self, node):\n",
    "        '''\n",
    "        Calculate the UCB score for a node\n",
    "        '''\n",
    "        if not node.expanded:\n",
    "            return np.inf\n",
    "\n",
    "        if node.visits == 0:\n",
    "            return np.inf\n",
    "        else:\n",
    "            ln_N = np.log(node.parent.visits)\n",
    "\n",
    "        return node.get_score() + (np.sqrt((2 * ln_N)/node.visits))\n",
    "\n",
    "    def index_max(self, values):\n",
    "        '''\n",
    "        Return the index of the largest value in an array. Select at random if\n",
    "        draw.\n",
    "        '''\n",
    "        max_val = max(values)\n",
    "        max_indices = [ind for ind, val in enumerate(values) if val == max_val]\n",
    "        return np.random.choice(max_indices)\n",
    "\n",
    "    def get_highest_UCB(self, node):\n",
    "        '''\n",
    "        Return the child with the highest UCB from a node\n",
    "        '''\n",
    "        UCBs = []\n",
    "        for child in node.children:\n",
    "            child.UCB = self.calculate_UCB(child)\n",
    "            UCBs.append(child.UCB)\n",
    "        max_index = self.index_max(UCBs)\n",
    "\n",
    "        return node.children[max_index]\n",
    "\n",
    "    def backpropogate(self, path, winner):\n",
    "        '''\n",
    "        Backpropogate the result of the simulation along the path taken to the leaf node\n",
    "        '''\n",
    "        for node in path:\n",
    "            if node.player != winner:\n",
    "                node.wins += winner\n",
    "            node.visits += 1\n",
    "\n",
    "    def simulate(self, root_node):\n",
    "        '''\n",
    "        Traverse the tree, following the pasth of largest UCB until a leaf not is reached.\n",
    "        Simulate a random game from that leaf node and backpropagate the result back up the tree\n",
    "        '''\n",
    "        node = root_node\n",
    "        path = [node] # record the nodes that are traversed\n",
    "\n",
    "        #follow the nodes with the highest UCB until a node that is un-expanded is reached\n",
    "        while node.expanded and not node.end_state:\n",
    "            node = self.get_highest_UCB(node)\n",
    "            path.append(node)\n",
    "\n",
    "        self.game.expand(node)\n",
    "        winner = self.game.play_out(node, print_board=True)\n",
    "        self.backpropogate(path, winner)\n",
    "\n",
    "    def get_next_move(self, board, player=1):\n",
    "        '''\n",
    "        Explore the possiblity tree to generate the next move for the machine\n",
    "        '''\n",
    "\n",
    "        # If a node is already in the tree, select it, otherwise create a new node\n",
    "        if str(board) in self.hash_table:\n",
    "            root_node = self.hash_table[str(board)]\n",
    "        else:\n",
    "            root_node = Node(board, player)\n",
    "            self.hash_table[root_node.hash] = root_node\n",
    "\n",
    "        # Follow the path of highest UCB to a leaf, expand it, and simulate\n",
    "        # a random game from that point\n",
    "        for iterations in range(self.iterations):\n",
    "            self.simulate(root_node)\n",
    "\n",
    "        # Look through the scores for each possible next move and select\n",
    "        # the one with highest score\n",
    "        scores = [child.get_score() for child in root_node.children]\n",
    "        best_index = self.index_max(scores)\n",
    "\n",
    "        return root_node.children[best_index].board, root_node"
   ]
  },
  {
   "cell_type": "code",
   "execution_count": 3,
   "metadata": {},
   "outputs": [
    {
     "name": "stdout",
     "output_type": "stream",
     "text": [
      "[[ 1 -1 -1]\n",
      " [ 1  1  0]\n",
      " [ 0  0  0]]\n",
      "283 289\n",
      "0.9792387543252595\n",
      "\n",
      "[[ 1 -1 -1]\n",
      " [ 0  1  1]\n",
      " [ 0  0  0]]\n",
      "140 156\n",
      "0.8974358974358975\n",
      "\n",
      "[[ 1 -1 -1]\n",
      " [ 0  1  0]\n",
      " [ 1  0  0]]\n",
      "106 123\n",
      "0.8617886178861789\n",
      "\n",
      "[[ 1 -1 -1]\n",
      " [ 0  1  0]\n",
      " [ 0  1  0]]\n",
      "60 78\n",
      "0.7692307692307693\n",
      "\n",
      "[[ 1 -1 -1]\n",
      " [ 0  1  0]\n",
      " [ 0  0  1]]\n",
      "353 353\n",
      "1.0\n",
      "\n"
     ]
    }
   ],
   "source": [
    "MCTS = MonteCarloTreeSearch(TicTacToe())\n",
    "board = np.array([[ 1, -1, -1], [ 0,  1,  0], [ 0,  0,  0]], dtype=np.int8)\n",
    "_, node = MCTS.get_next_move(board)\n",
    "\n",
    "for child in node.children:\n",
    "    print(child.board)\n",
    "    print(child.wins, child.visits)\n",
    "    print(child.get_score())\n",
    "    print()"
   ]
  },
  {
   "cell_type": "code",
   "execution_count": 29,
   "metadata": {},
   "outputs": [
    {
     "data": {
      "text/plain": [
       "array([False, False,  True,  True,  True,  True])"
      ]
     },
     "execution_count": 29,
     "metadata": {},
     "output_type": "execute_result"
    }
   ],
   "source": [
    "a = np.array([0,0,0,0,1,-1])\n",
    "for index, val in np.flip(a):\n",
    "    if val == 0:\n",
    "        break\n"
   ]
  },
  {
   "cell_type": "code",
   "execution_count": 60,
   "metadata": {},
   "outputs": [
    {
     "data": {
      "text/plain": [
       "3"
      ]
     },
     "execution_count": 60,
     "metadata": {},
     "output_type": "execute_result"
    }
   ],
   "source": [
    "a = np.array([0,0,0,0,2,3,4])\n",
    "for i, val in enumerate(a[::-1]):\n",
    "    if val == 0:\n",
    "        break\n",
    "i"
   ]
  },
  {
   "cell_type": "code",
   "execution_count": 16,
   "metadata": {},
   "outputs": [
    {
     "name": "stdout",
     "output_type": "stream",
     "text": [
      "The slowest run took 4.51 times longer than the fastest. This could mean that an intermediate result is being cached.\n",
      "40.9 µs ± 30.3 µs per loop (mean ± std. dev. of 7 runs, 1 loop each)\n"
     ]
    }
   ],
   "source": [
    "from games import TicTacToe, Connect4\n",
    "import numpy as np\n",
    "import numba\n",
    "\n",
    "self = Connect4()\n",
    "self.board_size = np.array(self.board_size)\n",
    "self.player_ids = np.array(self.player_ids)\n",
    "\n",
    "\n",
    "\n",
    "\n",
    "%timeit get_winner(self, )"
   ]
  },
  {
   "cell_type": "code",
   "execution_count": 153,
   "metadata": {},
   "outputs": [],
   "source": [
    "def display_board(board):\n",
    "    '''\n",
    "    Nicely display the current board\n",
    "    '''\n",
    "    # print x axis labels\n",
    "    sys.stdout.write('  ')\n",
    "    for y in range(board.shape[0]):\n",
    "        sys.stdout.write('{} '.format(y))\n",
    "    print()\n",
    "\n",
    "    # print the actual board\n",
    "    for x, row in enumerate(board):\n",
    "        sys.stdout.write(str(x))\n",
    "        for val in row:\n",
    "            if val == 1:\n",
    "                sys.stdout.write('|w')\n",
    "            elif val == 2:\n",
    "                sys.stdout.write('|W') # king white\n",
    "            elif val == -1:\n",
    "                sys.stdout.write('|b')\n",
    "            elif val == -2:\n",
    "                sys.stdout.write('|B') # king black\n",
    "            else:\n",
    "                sys.stdout.write('| ')\n",
    "        print('|')"
   ]
  },
  {
   "cell_type": "code",
   "execution_count": 213,
   "metadata": {},
   "outputs": [
    {
     "name": "stdout",
     "output_type": "stream",
     "text": [
      "  0 1 2 3 4 5 6 7 \n",
      "0| |b| |b| |b| |b|\n",
      "1|b| |b| |b| |b| |\n",
      "2| |b| |b| |b| |b|\n",
      "3| | | | | | | | |\n",
      "4| | | | | | | | |\n",
      "5|w| | | |w| |w| |\n",
      "6| |w| |w| |w| |w|\n",
      "7|w| |w| |w| |w| |\n"
     ]
    }
   ],
   "source": [
    "board = np.array([ [0, -1, 0, -1, 0, -1, 0, -1],\n",
    "                   [-1, 0, -1, 0, -1, 0, -1, 0],\n",
    "                   [0, -1, 0, -1, 0, -1, 0, -1],\n",
    "                   [0, 0, 0, 0, 0, 0, 0, 0],\n",
    "                   [0, 0, 0, 0, 0, 0, 0, 0],\n",
    "                   [1, 0, 0, 0, 1, 0, 1, 0],\n",
    "                   [0, 1, 0, 1, 0, 1, 0, 1],\n",
    "                   [1, 0, 1, 0, 1, 0, 1, 0]], dtype=np.int8)\n",
    "display_board(board)"
   ]
  },
  {
   "cell_type": "code",
   "execution_count": 1,
   "metadata": {},
   "outputs": [
    {
     "name": "stdout",
     "output_type": "stream",
     "text": [
      "  0 1 2 3 4 5 6 7 \n",
      "0| |b| |b| |b| |b|\n",
      "1|b| |b| |b| |b| |\n",
      "2| |b| |b| |b| |b|\n",
      "3| | | | | | | | |\n",
      "4| | | | | | | | |\n",
      "5|w| |w| |w| |w| |\n",
      "6| |w| |w| |w| |w|\n",
      "7|w| |w| |w| |w| |\n"
     ]
    }
   ],
   "source": [
    "from games import Draughts\n",
    "\n",
    "game = Draughts()\n",
    "\n",
    "board = game.start_state()\n",
    "game.display_board(board)"
   ]
  },
  {
   "cell_type": "code",
   "execution_count": 2,
   "metadata": {},
   "outputs": [
    {
     "name": "stdout",
     "output_type": "stream",
     "text": [
      "  0 1 2 3 4 5 6 7 \n",
      "0| |b| |b| |b| |b|\n",
      "1|b| |b| |b| |b| |\n",
      "2| |b| |b| |b| |b|\n",
      "3| | | | | | | | |\n",
      "4| |w| | | | | | |\n",
      "5| | |w| |w| |w| |\n",
      "6| |w| |w| |w| |w|\n",
      "7|w| |w| |w| |w| |\n",
      "\n",
      "  0 1 2 3 4 5 6 7 \n",
      "0| |b| |b| |b| |b|\n",
      "1|b| |b| |b| |b| |\n",
      "2| |b| |b| |b| |b|\n",
      "3| | | | | | | | |\n",
      "4| |w| | | | | | |\n",
      "5|w| | | |w| |w| |\n",
      "6| |w| |w| |w| |w|\n",
      "7|w| |w| |w| |w| |\n",
      "\n",
      "  0 1 2 3 4 5 6 7 \n",
      "0| |b| |b| |b| |b|\n",
      "1|b| |b| |b| |b| |\n",
      "2| |b| |b| |b| |b|\n",
      "3| | | | | | | | |\n",
      "4| | | |w| | | | |\n",
      "5|w| | | |w| |w| |\n",
      "6| |w| |w| |w| |w|\n",
      "7|w| |w| |w| |w| |\n",
      "\n",
      "  0 1 2 3 4 5 6 7 \n",
      "0| |b| |b| |b| |b|\n",
      "1|b| |b| |b| |b| |\n",
      "2| |b| |b| |b| |b|\n",
      "3| | | | | | | | |\n",
      "4| | | |w| | | | |\n",
      "5|w| |w| | | |w| |\n",
      "6| |w| |w| |w| |w|\n",
      "7|w| |w| |w| |w| |\n",
      "\n",
      "  0 1 2 3 4 5 6 7 \n",
      "0| |b| |b| |b| |b|\n",
      "1|b| |b| |b| |b| |\n",
      "2| |b| |b| |b| |b|\n",
      "3| | | | | | | | |\n",
      "4| | | | | |w| | |\n",
      "5|w| |w| | | |w| |\n",
      "6| |w| |w| |w| |w|\n",
      "7|w| |w| |w| |w| |\n",
      "\n",
      "  0 1 2 3 4 5 6 7 \n",
      "0| |b| |b| |b| |b|\n",
      "1|b| |b| |b| |b| |\n",
      "2| |b| |b| |b| |b|\n",
      "3| | | | | | | | |\n",
      "4| | | | | |w| | |\n",
      "5|w| |w| |w| | | |\n",
      "6| |w| |w| |w| |w|\n",
      "7|w| |w| |w| |w| |\n",
      "\n",
      "  0 1 2 3 4 5 6 7 \n",
      "0| |b| |b| |b| |b|\n",
      "1|b| |b| |b| |b| |\n",
      "2| |b| |b| |b| |b|\n",
      "3| | | | | | | | |\n",
      "4| | | | | | | |w|\n",
      "5|w| |w| |w| | | |\n",
      "6| |w| |w| |w| |w|\n",
      "7|w| |w| |w| |w| |\n",
      "\n"
     ]
    }
   ],
   "source": [
    "for move in game.get_moves(board, 1):\n",
    "    game.display_board(move)\n",
    "    print()"
   ]
  },
  {
   "cell_type": "code",
   "execution_count": 144,
   "metadata": {},
   "outputs": [
    {
     "name": "stdout",
     "output_type": "stream",
     "text": [
      "[['(0, 0)' '(0, 1)' '(0, 2)' '(0, 3)' '(0, 4)' '(0, 5)' '(0, 6)' '(0, 7)']\n",
      " ['(1, 0)' '(1, 1)' '(1, 2)' '(1, 3)' '(1, 4)' '(1, 5)' '(1, 6)' '(1, 7)']\n",
      " ['(2, 0)' '(2, 1)' '(2, 2)' '(2, 3)' '(2, 4)' '(2, 5)' '(2, 6)' '(2, 7)']\n",
      " ['(3, 0)' '(3, 1)' '(3, 2)' '(3, 3)' '(3, 4)' '(3, 5)' '(3, 6)' '(3, 7)']\n",
      " ['(4, 0)' '(4, 1)' '(4, 2)' '(4, 3)' '(4, 4)' '(4, 5)' '(4, 6)' '(4, 7)']\n",
      " ['(5, 0)' '(5, 1)' '(5, 2)' '(5, 3)' '(5, 4)' '(5, 5)' '(5, 6)' '(5, 7)']\n",
      " ['(6, 0)' '(6, 1)' '(6, 2)' '(6, 3)' '(6, 4)' '(6, 5)' '(6, 6)' '(6, 7)']\n",
      " ['(7, 0)' '(7, 1)' '(7, 2)' '(7, 3)' '(7, 4)' '(7, 5)' '(7, 6)' '(7, 7)']]\n"
     ]
    }
   ],
   "source": [
    "b = np.zeros((8,8), dtype=object)\n",
    "for x in range(8):\n",
    "    for y in range(8):\n",
    "        b[x][y] = str((x,y))\n",
    "print(b)"
   ]
  },
  {
   "cell_type": "code",
   "execution_count": 6,
   "metadata": {},
   "outputs": [
    {
     "ename": "AttributeError",
     "evalue": "'numpy.ndarray' object has no attribute 'moves_since_capture'",
     "output_type": "error",
     "traceback": [
      "\u001b[1;31m---------------------------------------------------------------------------\u001b[0m",
      "\u001b[1;31mAttributeError\u001b[0m                            Traceback (most recent call last)",
      "\u001b[1;32m<ipython-input-6-059745601d9e>\u001b[0m in \u001b[0;36m<module>\u001b[1;34m\u001b[0m\n\u001b[1;32m----> 1\u001b[1;33m \u001b[0msetattr\u001b[0m\u001b[1;33m(\u001b[0m\u001b[0mboard\u001b[0m\u001b[1;33m,\u001b[0m \u001b[1;34m'moves_since_capture'\u001b[0m\u001b[1;33m,\u001b[0m \u001b[1;36m0\u001b[0m\u001b[1;33m)\u001b[0m\u001b[1;33m\u001b[0m\u001b[0m\n\u001b[0m\u001b[0;32m      2\u001b[0m \u001b[0mboard\u001b[0m\u001b[1;33m\u001b[0m\u001b[0m\n",
      "\u001b[1;31mAttributeError\u001b[0m: 'numpy.ndarray' object has no attribute 'moves_since_capture'"
     ]
    }
   ],
   "source": [
    "setattr(board, 'moves_since_capture', 0)\n",
    "board"
   ]
  },
  {
   "cell_type": "code",
   "execution_count": 35,
   "metadata": {},
   "outputs": [
    {
     "name": "stdout",
     "output_type": "stream",
     "text": [
      "  0 1 2 3 4 5 6 7 \n",
      "0| |b| |b| |b| |b|\n",
      "1|b| |b| |b| |b| |\n",
      "2| |b| |b| |b| | |\n",
      "3| | |w| | | |b| |\n",
      "4| | | | | | | | |\n",
      "5|w| | | |w| |w| |\n",
      "6| |w| |w| |w| |w|\n",
      "7|w| |w| |w| |w| |\n"
     ]
    }
   ],
   "source": [
    "from games import Draughts\n",
    "'''\n",
    "  0 1 2 3 4 5 6 7\n",
    "0| |b| |b| |b| |b|\n",
    "1|b| |b| |b| |b| |\n",
    "2| |b| |b| |b| | |\n",
    "3| | |w| | | |b| |\n",
    "4| | | | | | | | |\n",
    "5|w| | | |w| |w| |\n",
    "6| |w| |w| |w| |w|\n",
    "7|w| |w| |w| |w| |\n",
    "'''\n",
    "board = np.array(\n",
    "            [[0, -1, 0, -1, 0, -1, 0, -1], \n",
    "             [-1, 0, -1, 0, -1, 0, -1, 0],\n",
    "             [0, -1, 0, -1, 0, -1, 0, 0], \n",
    "             [0, 0, 1, 0, 0, 0, -1, 0],\n",
    "             [0, 0, 0, 0, 0, 0, 0, 0], \n",
    "             [1, 0, 0, 0, 1, 0, 1, 0],\n",
    "             [0, 1, 0, 1, 0, 1, 0, 1], \n",
    "             [1, 0, 1, 0, 1, 0, 1, 0]],\n",
    "            dtype=np.int8)\n",
    "d = Draughts()\n",
    "d.display_board(board)"
   ]
  },
  {
   "cell_type": "code",
   "execution_count": 36,
   "metadata": {},
   "outputs": [
    {
     "data": {
      "image/png": "[encoded data removed]",
      "text/plain": [
       "<Figure size 432x288 with 1 Axes>"
      ]
     },
     "metadata": {
      "needs_background": "light"
     },
     "output_type": "display_data"
    }
   ],
   "source": [
    "from matplotlib import pyplot as plt\n",
    "plt.imshow(board)\n",
    "plt.show()"
   ]
  },
  {
   "cell_type": "code",
   "execution_count": 38,
   "metadata": {},
   "outputs": [
    {
     "data": {
      "image/png": "[encoded data removed]",
      "text/plain": [
       "<Figure size 432x288 with 1 Axes>"
      ]
     },
     "metadata": {
      "needs_background": "light"
     },
     "output_type": "display_data"
    },
    {
     "data": {
      "image/png": "[encoded data removed]",
      "text/plain": [
       "<Figure size 432x288 with 1 Axes>"
      ]
     },
     "metadata": {
      "needs_background": "light"
     },
     "output_type": "display_data"
    },
    {
     "data": {
      "image/png": "[encoded data removed]",
      "text/plain": [
       "<Figure size 432x288 with 1 Axes>"
      ]
     },
     "metadata": {
      "needs_background": "light"
     },
     "output_type": "display_data"
    },
    {
     "data": {
      "image/png": "[encoded data removed]",
      "text/plain": [
       "<Figure size 432x288 with 1 Axes>"
      ]
     },
     "metadata": {
      "needs_background": "light"
     },
     "output_type": "display_data"
    },
    {
     "data": {
      "image/png": "[encoded data removed]",
      "text/plain": [
       "<Figure size 432x288 with 1 Axes>"
      ]
     },
     "metadata": {
      "needs_background": "light"
     },
     "output_type": "display_data"
    },
    {
     "data": {
      "image/png": "[encoded data removed]",
      "text/plain": [
       "<Figure size 432x288 with 1 Axes>"
      ]
     },
     "metadata": {
      "needs_background": "light"
     },
     "output_type": "display_data"
    },
    {
     "data": {
      "image/png": "[encoded data removed]",
      "text/plain": [
       "<Figure size 432x288 with 1 Axes>"
      ]
     },
     "metadata": {
      "needs_background": "light"
     },
     "output_type": "display_data"
    },
    {
     "data": {
      "image/png": "[encoded data removed]",
      "text/plain": [
       "<Figure size 432x288 with 1 Axes>"
      ]
     },
     "metadata": {
      "needs_background": "light"
     },
     "output_type": "display_data"
    },
    {
     "data": {
      "image/png": "[encoded data removed]",
      "text/plain": [
       "<Figure size 432x288 with 1 Axes>"
      ]
     },
     "metadata": {
      "needs_background": "light"
     },
     "output_type": "display_data"
    },
    {
     "data": {
      "image/png": "[encoded data removed]",
      "text/plain": [
       "<Figure size 432x288 with 1 Axes>"
      ]
     },
     "metadata": {
      "needs_background": "light"
     },
     "output_type": "display_data"
    },
    {
     "data": {
      "image/png": "[encoded data removed]",
      "text/plain": [
       "<Figure size 432x288 with 1 Axes>"
      ]
     },
     "metadata": {
      "needs_background": "light"
     },
     "output_type": "display_data"
    },
    {
     "data": {
      "image/png": "[encoded data removed]",
      "text/plain": [
       "<Figure size 432x288 with 1 Axes>"
      ]
     },
     "metadata": {
      "needs_background": "light"
     },
     "output_type": "display_data"
    },
    {
     "data": {
      "image/png": "[encoded data removed]",
      "text/plain": [
       "<Figure size 432x288 with 1 Axes>"
      ]
     },
     "metadata": {
      "needs_background": "light"
     },
     "output_type": "display_data"
    }
   ],
   "source": [
    "for move in d.get_moves(board, -1):\n",
    "    plt.imshow(move)\n",
    "    plt.show()"
   ]
  },
  {
   "cell_type": "code",
   "execution_count": 45,
   "metadata": {},
   "outputs": [
    {
     "data": {
      "text/plain": [
       "[array([[0, 0, 0, 0, 0, 0, 0],\n",
       "        [0, 0, 0, 0, 0, 0, 0],\n",
       "        [0, 0, 0, 0, 0, 0, 0],\n",
       "        [0, 0, 0, 0, 0, 0, 0],\n",
       "        [0, 0, 0, 0, 0, 0, 0],\n",
       "        [1, 0, 0, 0, 0, 0, 0]], dtype=int8), array([[0, 0, 0, 0, 0, 0, 0],\n",
       "        [0, 0, 0, 0, 0, 0, 0],\n",
       "        [0, 0, 0, 0, 0, 0, 0],\n",
       "        [0, 0, 0, 0, 0, 0, 0],\n",
       "        [0, 0, 0, 0, 0, 0, 0],\n",
       "        [0, 1, 0, 0, 0, 0, 0]], dtype=int8), array([[0, 0, 0, 0, 0, 0, 0],\n",
       "        [0, 0, 0, 0, 0, 0, 0],\n",
       "        [0, 0, 0, 0, 0, 0, 0],\n",
       "        [0, 0, 0, 0, 0, 0, 0],\n",
       "        [0, 0, 0, 0, 0, 0, 0],\n",
       "        [0, 0, 1, 0, 0, 0, 0]], dtype=int8), array([[0, 0, 0, 0, 0, 0, 0],\n",
       "        [0, 0, 0, 0, 0, 0, 0],\n",
       "        [0, 0, 0, 0, 0, 0, 0],\n",
       "        [0, 0, 0, 0, 0, 0, 0],\n",
       "        [0, 0, 0, 0, 0, 0, 0],\n",
       "        [0, 0, 0, 1, 0, 0, 0]], dtype=int8), array([[0, 0, 0, 0, 0, 0, 0],\n",
       "        [0, 0, 0, 0, 0, 0, 0],\n",
       "        [0, 0, 0, 0, 0, 0, 0],\n",
       "        [0, 0, 0, 0, 0, 0, 0],\n",
       "        [0, 0, 0, 0, 0, 0, 0],\n",
       "        [0, 0, 0, 0, 1, 0, 0]], dtype=int8), array([[0, 0, 0, 0, 0, 0, 0],\n",
       "        [0, 0, 0, 0, 0, 0, 0],\n",
       "        [0, 0, 0, 0, 0, 0, 0],\n",
       "        [0, 0, 0, 0, 0, 0, 0],\n",
       "        [0, 0, 0, 0, 0, 0, 0],\n",
       "        [0, 0, 0, 0, 0, 1, 0]], dtype=int8), array([[0, 0, 0, 0, 0, 0, 0],\n",
       "        [0, 0, 0, 0, 0, 0, 0],\n",
       "        [0, 0, 0, 0, 0, 0, 0],\n",
       "        [0, 0, 0, 0, 0, 0, 0],\n",
       "        [0, 0, 0, 0, 0, 0, 0],\n",
       "        [0, 0, 0, 0, 0, 0, 1]], dtype=int8)]"
      ]
     },
     "execution_count": 45,
     "metadata": {},
     "output_type": "execute_result"
    }
   ],
   "source": [
    "def get_moves(board, player, width, height):\n",
    "    '''\n",
    "    Return a list of all possible moves from a given board\n",
    "    '''\n",
    "    moves = []\n",
    "    for x in range(width):\n",
    "        copy = board.copy()\n",
    "        for y in range(height):\n",
    "            if board[x][height - y -1] == 0:\n",
    "                copy[x][height - y -1] = player\n",
    "                moves.append(copy)\n",
    "    return moves\n",
    "\n",
    "def get_moves_np(board, player):\n",
    "    '''\n",
    "    Return a list of all possible moves from a given board\n",
    "    '''\n",
    "    moves = []\n",
    "    for x, col in enumerate(board.T):\n",
    "        if 0 in col:\n",
    "            for y, val in enumerate(col[::-1]):\n",
    "                if val == 0:\n",
    "                    y = len(col) - y - 1\n",
    "                    break\n",
    "            copy = board.copy()\n",
    "            copy[y][x] = player\n",
    "            moves.append(copy)\n",
    "    return moves\n",
    "\n",
    "@numba.jit()\n",
    "def get_moves_c(board, player, height, width):\n",
    "    '''\n",
    "    Return a list of all possible moves from a given board\n",
    "    '''\n",
    "    moves = []\n",
    "    for x in range(width):\n",
    "        copy = board.copy()\n",
    "        for y in range(height):\n",
    "            if board[height - y - 1][x] == 0:\n",
    "                copy[height - y - 1][x] = player\n",
    "                moves.append(copy)\n",
    "                break\n",
    "    return moves\n",
    "\n",
    "get_moves_c(np.zeros((6,7), dtype=np.int8), 1, 6,7) "
   ]
  },
  {
   "cell_type": "code",
   "execution_count": 94,
   "metadata": {},
   "outputs": [],
   "source": [
    "board = np.array([[ 1, -1, -1], [ 0,  1,  0], [ 0,  0,  1]], dtype=np.int8)\n",
    "node = Node(board, -1)\n",
    "\n",
    "MCTS.simulate(node)"
   ]
  }
 ],
 "metadata": {
  "kernelspec": {
   "display_name": "Python 3",
   "language": "python",
   "name": "python3"
  },
  "language_info": {
   "codemirror_mode": {
    "name": "ipython",
    "version": 3
   },
   "file_extension": ".py",
   "mimetype": "text/x-python",
   "name": "python",
   "nbconvert_exporter": "python",
   "pygments_lexer": "ipython3",
   "version": "3.6.2"
  }
 },
 "nbformat": 4,
 "nbformat_minor": 2
}
